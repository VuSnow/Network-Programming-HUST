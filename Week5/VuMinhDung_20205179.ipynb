{
 "cells": [
  {
   "cell_type": "code",
   "execution_count": 1,
   "metadata": {},
   "outputs": [],
   "source": [
    "from math import gcd\n",
    "import random"
   ]
  },
  {
   "cell_type": "code",
   "execution_count": 2,
   "metadata": {},
   "outputs": [],
   "source": [
    "ID = 79 #two last digits in student ID"
   ]
  },
  {
   "cell_type": "code",
   "execution_count": 3,
   "metadata": {},
   "outputs": [],
   "source": [
    "def encode_string(string):\n",
    "    bit_string = ''\n",
    "    for i in string:\n",
    "        bit_string += '{0:05b}'.format(ord(i.capitalize()) - ord('A'))\n",
    "    return bit_string"
   ]
  },
  {
   "cell_type": "code",
   "execution_count": 4,
   "metadata": {},
   "outputs": [],
   "source": [
    "def is_valid_string(string):\n",
    "    string = string.upper() \n",
    "    for letter in string:\n",
    "        if letter < 'A' or letter > 'Z':\n",
    "            return False\n",
    "    return True"
   ]
  },
  {
   "cell_type": "code",
   "execution_count": 5,
   "metadata": {},
   "outputs": [],
   "source": [
    "def generate_super_increasing_vector(length): # super increasing vector \n",
    "    a = []\n",
    "    total_sum = 2\n",
    "\n",
    "    for _ in range(length + 1):\n",
    "        random.seed(2) # make the same results when running in multiple times  \n",
    "        element = random.randint(total_sum + 1, total_sum + 100)\n",
    "        a.append(element)\n",
    "        total_sum += element\n",
    "    m = a[-1]\n",
    "    w = ID + 1\n",
    "    while True:\n",
    "        if gcd(m, w) == 1:\n",
    "            break\n",
    "        else:\n",
    "            w += 1\n",
    "    return a[:-1], m, w"
   ]
  },
  {
   "cell_type": "code",
   "execution_count": 6,
   "metadata": {},
   "outputs": [],
   "source": [
    "def generate_public_key(increasing_vector, m, w):\n",
    "    return [(a_i * w) % m for a_i in increasing_vector] \n"
   ]
  },
  {
   "cell_type": "code",
   "execution_count": 7,
   "metadata": {},
   "outputs": [],
   "source": [
    "def encrypt(public_key, encoded_string):\n",
    "    print(\"Encoded name: \" + encoded_string)\n",
    "    T = 0\n",
    "    for i in range(len(public_key)):\n",
    "        T += public_key[i] * int(encoded_string[i])\n",
    "    return T"
   ]
  },
  {
   "cell_type": "code",
   "execution_count": 8,
   "metadata": {},
   "outputs": [],
   "source": [
    "def decrypt(a, m, w, T):\n",
    "    X = pow(w, -1, m)\n",
    "    res = ''\n",
    "    T_prime = (X * T) % m\n",
    "    \n",
    "    for element in reversed(a):\n",
    "        if T_prime >= element:\n",
    "            T_prime -= element\n",
    "            res = '1' + res\n",
    "        else:\n",
    "            res = '0' + res\n",
    "    return res\n"
   ]
  },
  {
   "cell_type": "code",
   "execution_count": 9,
   "metadata": {},
   "outputs": [],
   "source": [
    "def decode_string(bit_sequence):\n",
    "    decoded_string = \"\"\n",
    "    for i in range(0, len(bit_sequence), 5):\n",
    "        binary_code = bit_sequence[i:i+5]\n",
    "        char_code = int(binary_code, 2) + ord('A')\n",
    "        char = chr(char_code)\n",
    "        decoded_string += char\n",
    "    return decoded_string"
   ]
  },
  {
   "cell_type": "code",
   "execution_count": 13,
   "metadata": {},
   "outputs": [
    {
     "name": "stdout",
     "output_type": "stream",
     "text": [
      "name:  VuMinhDung\n",
      "Encoded name: 10101101000110001000011010011100011101000110100110\n",
      "Private key: \n",
      "a:  [10, 20, 40, 80, 160, 320, 640, 1280, 2560, 5120, 10240, 20480, 40960, 81920, 163840, 327680, 655360, 1310720, 2621440, 5242880, 10485760, 20971520, 41943040, 83886080, 167772160, 335544320, 671088640, 1342177280, 2684354560, 5368709120, 10737418240, 21474836480, 42949672960, 85899345920, 171798691840, 343597383680, 687194767360, 1374389534720, 2748779069440, 5497558138880, 10995116277760, 21990232555520, 43980465111040, 87960930222080, 175921860444160, 351843720888320, 703687441776640, 1407374883553280, 2814749767106560, 5629499534213120]\n",
      "m:  11258999068426240\n",
      "w:  81\n",
      "\n",
      "Generating public key:  [810, 1620, 3240, 6480, 12960, 25920, 51840, 103680, 207360, 414720, 829440, 1658880, 3317760, 6635520, 13271040, 26542080, 53084160, 106168320, 212336640, 424673280, 849346560, 1698693120, 3397386240, 6794772480, 13589544960, 27179089920, 54358179840, 108716359680, 217432719360, 434865438720, 869730877440, 1739461754880, 3478923509760, 6957847019520, 13915694039040, 27831388078080, 55662776156160, 111325552312320, 222651104624640, 445302209249280, 890604418498560, 1781208836997120, 3562417673994240, 7124835347988480, 2990671627550720, 5981343255101440, 703687441776640, 1407374883553280, 2814749767106560, 5629499534213120]\n",
      "\n",
      "Encrypted value:  12717233029000370\n",
      "Decrypted value:  10101101000110001000011010011100011101000110100110\n",
      "Original value:  VUMINHDUNG\n"
     ]
    }
   ],
   "source": [
    "name = input(\"Enter your name: \")\n",
    "print(\"name: \", name)\n",
    "if not is_valid_string(name):\n",
    "    print(\"Invalid name: \", name)\n",
    "encoded_name = encode_string(name)\n",
    "a, m, w = generate_super_increasing_vector(len(encoded_name)) \n",
    "public_key = generate_public_key(a, m, w)\n",
    "T = encrypt(public_key, encoded_name)\n",
    "T_prime = decrypt(a, m, w, T)\n",
    "original_string = decode_string(T_prime)\n",
    "\n",
    "print(\"Private key: \")\n",
    "print(\"a: \", a)\n",
    "print(\"m: \", m)\n",
    "print(\"w: \", w)\n",
    "\n",
    "print()\n",
    "print(\"Generating public key: \", public_key)\n",
    "print()\n",
    "\n",
    "print(\"Encrypted value: \", T)\n",
    "print(\"Decrypted value: \", T_prime)\n",
    "print(\"Original value: \", original_string)"
   ]
  },
  {
   "cell_type": "code",
   "execution_count": null,
   "metadata": {},
   "outputs": [],
   "source": []
  }
 ],
 "metadata": {
  "kernelspec": {
   "display_name": "Python 3",
   "language": "python",
   "name": "python3"
  },
  "language_info": {
   "codemirror_mode": {
    "name": "ipython",
    "version": 3
   },
   "file_extension": ".py",
   "mimetype": "text/x-python",
   "name": "python",
   "nbconvert_exporter": "python",
   "pygments_lexer": "ipython3",
   "version": "3.11.5"
  }
 },
 "nbformat": 4,
 "nbformat_minor": 2
}
